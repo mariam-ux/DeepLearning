{
 "cells": [
  {
   "cell_type": "markdown",
   "metadata": {
    "jp-MarkdownHeadingCollapsed": true
   },
   "source": [
    "\n",
    "# AAI612: Deep Learning & its Applications\n",
    "\n",
    "*Notebook 1.1: Using the perceptron for linear fitting*\n",
    "\n",
    "<a href=\"https://colab.research.google.com/github/harmanani/AAI612/blob/main/Week1/Notebook1.1.ipynb\" target=\"_parent\"><img src=\"https://colab.research.google.com/assets/colab-badge.svg\" alt=\"Open In Colab\"/></a>"
   ]
  },
  {
   "cell_type": "markdown",
   "metadata": {
    "id": "ZIAkIlfmCe1B"
   },
   "source": [
    "Notebook 1.1"
   ]
  },
  {
   "cell_type": "markdown",
   "metadata": {
    "id": "fA93WUy1zzWf"
   },
   "source": [
    "In this notebook, we will perform linear regression using a single neuron.  We will be using `TensorFlow` and `Keras`; however, do not worry about the details of the language for the moment as we will get back to these later on.\n",
    "\n",
    "The simple mode we will be looking at will learn the relationship between two numbers and will be used to predict other numbers. For example, if you were writing code for a function like this: \n",
    "\n",
    "\n",
    "```\n",
    "y = mx + b\n",
    "```\n",
    "\n",
    "How would you train a neural network to do the equivalent task? Well, we said using data, a lot of data! The approach is to feed the model with a set of Xs, and a set of Ys, it should be able to figure out the relationship between them. "
   ]
  },
  {
   "cell_type": "markdown",
   "metadata": {},
   "source": [
    "# Linear Regression "
   ]
  },
  {
   "cell_type": "markdown",
   "metadata": {},
   "source": [
    "Let us start by linear regression.   Assume we have the following simple dataset.  We can easily fit using `polyfit():`"
   ]
  },
  {
   "cell_type": "code",
   "execution_count": 34,
   "metadata": {},
   "outputs": [],
   "source": [
    "from numpy.polynomial.polynomial import polyfit\n",
    "import matplotlib.pyplot as plt\n",
    "import numpy as np\n",
    "\n",
    "\n",
    "x = np.array([ 0,  1,  2,  3,  4,  5,  6,  7,  8,  9])\n",
    "y = np.array([10, 20, 25, 30, 40, 45, 40, 50, 60, 55])"
   ]
  },
  {
   "cell_type": "markdown",
   "metadata": {},
   "source": [
    "Let us explore the data!"
   ]
  },
  {
   "cell_type": "code",
   "execution_count": 35,
   "metadata": {},
   "outputs": [
    {
     "data": {
      "image/png": "[encoded data removed]",
      "text/plain": [
       "<Figure size 640x480 with 1 Axes>"
      ]
     },
     "metadata": {},
     "output_type": "display_data"
    }
   ],
   "source": [
    "plt.plot(x, y, '.')\n",
    "plt.show()"
   ]
  },
  {
   "cell_type": "markdown",
   "metadata": {},
   "source": [
    "Now, let us see how we can best fit this data using the `polyfit`:"
   ]
  },
  {
   "cell_type": "code",
   "execution_count": 36,
   "metadata": {},
   "outputs": [],
   "source": [
    "b, m = polyfit(x,y,1)# is for leaniarity \n",
    "\n",
    "y_hat = m*x+b"
   ]
  },
  {
   "cell_type": "markdown",
   "metadata": {},
   "source": [
    "The above data fit results with the following equation:"
   ]
  },
  {
   "cell_type": "code",
   "execution_count": 37,
   "metadata": {},
   "outputs": [
    {
     "name": "stdout",
     "output_type": "stream",
     "text": [
      "Equation that best fits the data is: Y = 5.12 * x + 14.45\n"
     ]
    }
   ],
   "source": [
    "print(\"Equation that best fits the data is: Y = %2.2f * x + %5.2f\" % (m,b))"
   ]
  },
  {
   "cell_type": "markdown",
   "metadata": {},
   "source": [
    "and now, let us see how it fits visually:"
   ]
  },
  {
   "cell_type": "code",
   "execution_count": 38,
   "metadata": {},
   "outputs": [
    {
     "data": {
      "image/png": "[encoded data removed]",
      "text/plain": [
       "<Figure size 640x480 with 1 Axes>"
      ]
     },
     "metadata": {},
     "output_type": "display_data"
    }
   ],
   "source": [
    "plt.plot(x, y, '.')\n",
    "plt.plot(x, y_hat, '-')\n",
    "plt.show()"
   ]
  },
  {
   "cell_type": "markdown",
   "metadata": {},
   "source": [
    "Let us predict y for x = 10"
   ]
  },
  {
   "cell_type": "code",
   "execution_count": 39,
   "metadata": {},
   "outputs": [
    {
     "name": "stdout",
     "output_type": "stream",
     "text": [
      "75.90909090909088\n"
     ]
    }
   ],
   "source": [
    "x = 12\n",
    "print(m*x+b)"
   ]
  },
  {
   "cell_type": "markdown",
   "metadata": {},
   "source": [
    "Now, let us try this all over again using one neuron.  We will be using `Keras` and `TesnorFlow`."
   ]
  },
  {
   "cell_type": "markdown",
   "metadata": {
    "id": "DzbtdRcZDO9B"
   },
   "source": [
    "## Imports\n",
    "\n",
    "Let's start with our imports. Here we are importing 'TensorFlow' and calling it tf for ease of use.  We do of course need to import `numpy`, which helps us to represent our data as lists easily and quickly.  Finally, the framework for defining a neural network as a set of Sequential layers is called keras, so we import that too."
   ]
  },
  {
   "cell_type": "code",
   "execution_count": 40,
   "metadata": {
    "id": "X9uIpOS2zx7k"
   },
   "outputs": [
    {
     "name": "stdout",
     "output_type": "stream",
     "text": [
      "2.18.0\n"
     ]
    }
   ],
   "source": [
    "import tensorflow as tf\n",
    "import numpy as np\n",
    "from tensorflow import keras\n",
    "\n",
    "print(tf.__version__)"
   ]
  },
  {
   "cell_type": "markdown",
   "metadata": {
    "id": "wwJGmDrQ0EoB"
   },
   "source": [
    "## Define and Compile the Neural Network\n",
    "\n",
    "Next we will create the simplest possible neural network. It has 1 layer, and that layer has 1 neuron, and the input shape to it is just 1 value."
   ]
  },
  {
   "cell_type": "code",
   "execution_count": 41,
   "metadata": {
    "id": "kQFAr_xo0M4T"
   },
   "outputs": [
    {
     "name": "stderr",
     "output_type": "stream",
     "text": [
      "C:\\Users\\acer\\AppData\\Roaming\\Python\\Python312\\site-packages\\keras\\src\\layers\\core\\dense.py:87: UserWarning: Do not pass an `input_shape`/`input_dim` argument to a layer. When using Sequential models, prefer using an `Input(shape)` object as the first layer in the model instead.\n",
      "  super().__init__(activity_regularizer=activity_regularizer, **kwargs)\n"
     ]
    }
   ],
   "source": [
    "model = tf.keras.Sequential([keras.layers.Dense(units=1, input_shape=[1])])"
   ]
  },
  {
   "cell_type": "markdown",
   "metadata": {
    "id": "KhjZjZ-c0Ok9"
   },
   "source": [
    "Now we compile our Neural Network. When we do so, we have to specify 2 functions, a loss and an optimizer.\n",
    "\n",
    "If you've seen lots of math for machine learning, here's where it's usually used, but in this case it's nicely encapsulated in functions for you. But what happens here — let's explain...\n",
    "\n",
    "We know that in our function, the relationship between the numbers is Y = 5.12 * x + 14.45. \n",
    "\n",
    "When the computer is trying to 'learn' that, it makes a guess...maybe y=10x+10. The LOSS function measures the guessed answers against the known correct answers and measures how well or how badly it did.\n",
    "\n",
    "It then uses the OPTIMIZER function to make another guess. Based on how the loss function went, it will try to minimize the loss. At that point maybe it will come up with somehting like y=5x+5, which, while still pretty bad, is closer to the correct result (i.e. the loss is lower)\n",
    "\n",
    "It will repeat this for the number of EPOCHS which you will see shortly. But first, here's how we tell it to use 'MEAN SQUARED ERROR' for the loss and 'STOCHASTIC GRADIENT DESCENT' for the optimizer. You don't need to understand the math for these yet, but you can see that they work! :)\n",
    "\n",
    "Over time you will learn the different and appropriate loss and optimizer functions for different scenarios. \n"
   ]
  },
  {
   "cell_type": "code",
   "execution_count": 42,
   "metadata": {
    "id": "m8YQN1H41L-Y"
   },
   "outputs": [],
   "source": [
    "model.compile(optimizer='sgd', loss='mean_squared_error')"
   ]
  },
  {
   "cell_type": "markdown",
   "metadata": {
    "id": "5QyOUhFw1OUX"
   },
   "source": [
    "## Providing the Data\n",
    "\n",
    "Next up we'll feed in some data. In this case we are taking 6 xs and 6ys. You can see that the relationship between these is that y=2x-1, so where x = -1, y=-3 etc. etc. \n",
    "\n",
    "A python library called 'Numpy' provides lots of array type data structures that are a defacto standard way of doing it. We declare that we want to use these by specifying the values as an np.array[]"
   ]
  },
  {
   "cell_type": "markdown",
   "metadata": {},
   "source": [
    "### Let us try this dataset!"
   ]
  },
  {
   "cell_type": "markdown",
   "metadata": {},
   "source": [
    "Comment the above data set and try this one now:"
   ]
  },
  {
   "cell_type": "code",
   "execution_count": 43,
   "metadata": {},
   "outputs": [],
   "source": [
    "xs = np.array([ 0,  1,  2,  3,  4,  5,  6,  7,  8,  9])\n",
    "ys = np.array([10, 20, 25, 30, 40, 45, 40, 50, 60, 55])"
   ]
  },
  {
   "cell_type": "markdown",
   "metadata": {
    "id": "n_YcWRElnM_b"
   },
   "source": [
    "# Training the Neural Network"
   ]
  },
  {
   "cell_type": "markdown",
   "metadata": {
    "id": "c-Jk4dG91dvD"
   },
   "source": [
    "The process of training the neural network, where it 'learns' the relationship between the Xs and Ys is in the **model.fit**  call. This is where it will go through the loop we spoke about above, making a guess, measuring how good or bad it is (aka the loss), using the opimizer to make another guess etc. It will do it for the number of epochs you specify. When you run this code, you'll see the loss on the right hand side."
   ]
  },
  {
   "cell_type": "code",
   "execution_count": 44,
   "metadata": {
    "id": "lpRrl7WK10Pq"
   },
   "outputs": [],
   "source": [
    "from keras.callbacks import History \n",
    "history = History()\n",
    "\n",
    "x = model.fit(xs, ys, epochs=500, callbacks=[history], verbose=0)"
   ]
  },
  {
   "cell_type": "markdown",
   "metadata": {
    "id": "kaFIr71H2OZ-"
   },
   "source": [
    "Ok, that we have a model that we have trained to learn the relationship between X and Y, we can use the **model.predict** method to have it figure out the Y for a previously unknown X. So, for example, if X = 2, what do you think Y will be? Take a guess before you run this code:"
   ]
  },
  {
   "cell_type": "code",
   "execution_count": 45,
   "metadata": {},
   "outputs": [
    {
     "name": "stdout",
     "output_type": "stream",
     "text": [
      "{'loss': [1662.8753662109375, 341.3222961425781, 112.53726959228516, 72.54705810546875, 65.17876434326172, 63.451515197753906, 62.70389938354492, 62.1306266784668, 61.59246063232422, 61.06529998779297, 60.544944763183594, 60.03057861328125, 59.52204513549805, 59.019248962402344, 58.522125244140625, 58.03055953979492, 57.54457473754883, 57.06403732299805, 56.58892059326172, 56.11915969848633, 55.65467071533203, 55.1954460144043, 54.7413444519043, 54.29240798950195, 53.8484992980957, 53.40958786010742, 52.97563934326172, 52.54656982421875, 52.12232208251953, 51.70287322998047, 51.28813552856445, 50.87805938720703, 50.47261428833008, 50.071739196777344, 49.67537307739258, 49.283470153808594, 48.895973205566406, 48.512855529785156, 48.1340446472168, 47.759490966796875, 47.389183044433594, 47.02302932739258, 46.660987854003906, 46.303035736083984, 45.949119567871094, 45.59919357299805, 45.25319290161133, 44.911094665527344, 44.572853088378906, 44.2384147644043, 43.907752990722656, 43.58081817626953, 43.25754928588867, 42.93791961669922, 42.62190628051758, 42.30944061279297, 42.0004997253418, 41.695030212402344, 41.39302444458008, 41.094398498535156, 40.79914855957031, 40.507205963134766, 40.21855926513672, 39.93317413330078, 39.65099334716797, 39.37199020385742, 39.096134185791016, 38.823387145996094, 38.55371856689453, 38.28706359863281, 38.0234260559082, 37.76276779174805, 37.50502395629883, 37.25019073486328, 36.99823760986328, 36.74909973144531, 36.502784729003906, 36.259246826171875, 36.01844024658203, 35.78035354614258, 35.54493713378906, 35.31219482421875, 35.08205032348633, 34.854515075683594, 34.6295280456543, 34.4070930480957, 34.1871452331543, 33.969688415527344, 33.754676818847656, 33.542076110839844, 33.331886291503906, 33.124046325683594, 32.918548583984375, 32.71537399291992, 32.514495849609375, 32.31586456298828, 32.119483947753906, 31.925302505493164, 31.733312606811523, 31.54348373413086, 31.355798721313477, 31.17022132873535, 30.986743927001953, 30.805316925048828, 30.625940322875977, 30.44858741760254, 30.273229598999023, 30.099849700927734, 29.928421020507812, 29.758922576904297, 29.591333389282227, 29.42563247680664, 29.261795043945312, 29.099803924560547, 28.939626693725586, 28.781269073486328, 28.624685287475586, 28.469884872436523, 28.31680679321289, 28.165447235107422, 28.01581382751465, 27.86785888671875, 27.7215633392334, 27.576923370361328, 27.433902740478516, 27.292499542236328, 27.152694702148438, 27.014453887939453, 26.877777099609375, 26.742639541625977, 26.609020233154297, 26.476903915405273, 26.346277236938477, 26.21712303161621, 26.08942222595215, 25.96316146850586, 25.838314056396484, 25.714885711669922, 25.592851638793945, 25.4721736907959, 25.352869033813477, 25.234901428222656, 25.11826515197754, 25.002931594848633, 24.888904571533203, 24.776174545288086, 24.664703369140625, 24.55448341369629, 24.445514678955078, 24.3377628326416, 24.231231689453125, 24.125904083251953, 24.02175521850586, 23.918781280517578, 23.816970825195312, 23.716293334960938, 23.61676025390625, 23.51834487915039, 23.42104721069336, 23.324844360351562, 23.22970962524414, 23.135658264160156, 23.042665481567383, 22.95072364807129, 22.859806060791016, 22.769926071166992, 22.681039810180664, 22.593175888061523, 22.506282806396484, 22.420377731323242, 22.335437774658203, 22.251455307006836, 22.16842269897461, 22.086315155029297, 22.005146026611328, 21.924888610839844, 21.845535278320312, 21.76705551147461, 21.689476013183594, 21.61277198791504, 21.536935806274414, 21.46193504333496, 21.387798309326172, 21.314489364624023, 21.24200439453125, 21.170333862304688, 21.0994815826416, 21.029417037963867, 20.960147857666016, 20.89165687561035, 20.823938369750977, 20.756975173950195, 20.690771102905273, 20.62531280517578, 20.560590744018555, 20.496597290039062, 20.433330535888672, 20.37076759338379, 20.308910369873047, 20.247751235961914, 20.187284469604492, 20.127506256103516, 20.068384170532227, 20.009937286376953, 19.95214080810547, 19.8950138092041, 19.838516235351562, 19.782649993896484, 19.7274169921875, 19.67281150817871, 19.618818283081055, 19.565439224243164, 19.512645721435547, 19.46045684814453, 19.408859252929688, 19.357839584350586, 19.30739402770996, 19.257518768310547, 19.20819854736328, 19.159435272216797, 19.111221313476562, 19.063552856445312, 19.016427993774414, 18.969823837280273, 18.923749923706055, 18.87819480895996, 18.83315086364746, 18.788612365722656, 18.744579315185547, 18.701034545898438, 18.65798568725586, 18.615421295166016, 18.573339462280273, 18.531721115112305, 18.490583419799805, 18.449901580810547, 18.40968132019043, 18.369918823242188, 18.330612182617188, 18.291728973388672, 18.253286361694336, 18.21527671813965, 18.17770767211914, 18.140552520751953, 18.103803634643555, 18.06748390197754, 18.031572341918945, 17.996068954467773, 17.960960388183594, 17.926246643066406, 17.891923904418945, 17.857990264892578, 17.82443618774414, 17.791257858276367, 17.75844955444336, 17.72602653503418, 17.693950653076172, 17.662248611450195, 17.63089942932129, 17.599899291992188, 17.56926155090332, 17.538951873779297, 17.50898551940918, 17.479373931884766, 17.450069427490234, 17.42111587524414, 17.392488479614258, 17.364179611206055, 17.336185455322266, 17.308507919311523, 17.281143188476562, 17.25408363342285, 17.22732925415039, 17.200885772705078, 17.17473030090332, 17.14887046813965, 17.123292922973633, 17.0980167388916, 17.07302474975586, 17.048307418823242, 17.023876190185547, 16.999719619750977, 16.97583770751953, 16.952207565307617, 16.928861618041992, 16.905773162841797, 16.882946014404297, 16.860366821289062, 16.838056564331055, 16.81598472595215, 16.79416847229004, 16.772598266601562, 16.751270294189453, 16.73017692565918, 16.70932388305664, 16.688716888427734, 16.66832160949707, 16.648168563842773, 16.628244400024414, 16.608539581298828, 16.589061737060547, 16.56979751586914, 16.550750732421875, 16.531917572021484, 16.513296127319336, 16.494892120361328, 16.476694107055664, 16.458694458007812, 16.440906524658203, 16.42331314086914, 16.40591812133789, 16.388717651367188, 16.3717041015625, 16.35489273071289, 16.33826446533203, 16.321828842163086, 16.305570602416992, 16.28951072692871, 16.27362060546875, 16.257911682128906, 16.24237632751465, 16.22701644897461, 16.211830139160156, 16.196813583374023, 16.18198013305664, 16.16729736328125, 16.15278434753418, 16.138437271118164, 16.124252319335938, 16.1102294921875, 16.096355438232422, 16.082637786865234, 16.069082260131836, 16.055673599243164, 16.042423248291016, 16.02931785583496, 16.016353607177734, 16.00354766845703, 15.990880966186523, 15.978358268737793, 15.965970993041992, 15.953729629516602, 15.941622734069824, 15.929652214050293, 15.917810440063477, 15.906115531921387, 15.89454460144043, 15.883100509643555, 15.871793746948242, 15.860605239868164, 15.849546432495117, 15.838623046875, 15.82780933380127, 15.817118644714355, 15.806553840637207, 15.796104431152344, 15.7857666015625, 15.775555610656738, 15.765454292297363, 15.755470275878906, 15.74559211730957, 15.735830307006836, 15.726183891296387, 15.716638565063477, 15.707191467285156, 15.697868347167969, 15.68864917755127, 15.679519653320312, 15.670501708984375, 15.661590576171875, 15.652775764465332, 15.64405632019043, 15.6354341506958, 15.626910209655762, 15.618481636047363, 15.61015510559082, 15.60192584991455, 15.593775749206543, 15.585723876953125, 15.577760696411133, 15.569890022277832, 15.562105178833008, 15.554408073425293, 15.546795845031738, 15.539278030395508, 15.531834602355957, 15.5244779586792, 15.51721477508545, 15.51002025604248, 15.502909660339355, 15.495877265930176, 15.488931655883789, 15.48205852508545, 15.475268363952637, 15.468545913696289, 15.461898803710938, 15.455340385437012, 15.448840141296387, 15.442419052124023, 15.436073303222656, 15.429800033569336, 15.42359447479248, 15.417457580566406, 15.411392211914062, 15.405387878417969, 15.39946460723877, 15.393594741821289, 15.387799263000488, 15.382064819335938, 15.376391410827637, 15.370794296264648, 15.365246772766113, 15.359773635864258, 15.354352951049805, 15.349000930786133, 15.343701362609863, 15.338468551635742, 15.333288192749023, 15.328167915344238, 15.32310676574707, 15.318109512329102, 15.313158988952637, 15.308267593383789, 15.303433418273926, 15.298643112182617, 15.293914794921875, 15.2892484664917, 15.284612655639648, 15.280050277709961, 15.275527954101562, 15.271055221557617, 15.26664924621582, 15.2622709274292, 15.257957458496094, 15.253689765930176, 15.24946403503418, 15.245283126831055, 15.241157531738281, 15.237080574035645, 15.23304271697998, 15.229049682617188, 15.225103378295898, 15.221209526062012, 15.217351913452148, 15.213541030883789, 15.209765434265137, 15.206039428710938, 15.202352523803711, 15.198707580566406, 15.195119857788086, 15.191548347473145, 15.188020706176758, 15.184536933898926, 15.181100845336914, 15.177693367004395, 15.17431926727295, 15.170999526977539, 15.167704582214355, 15.164454460144043, 15.161230087280273, 15.158052444458008, 15.154912948608398, 15.151800155639648, 15.148717880249023, 15.145685195922852, 15.142679214477539, 15.13969898223877, 15.136761665344238, 15.133862495422363, 15.130990982055664, 15.128146171569824, 15.125341415405273, 15.12256145477295, 15.1198148727417, 15.117100715637207, 15.114420890808105, 15.111760139465332, 15.109138488769531, 15.106544494628906, 15.103985786437988, 15.1014404296875, 15.098933219909668, 15.096456527709961, 15.094003677368164, 15.091577529907227, 15.089189529418945, 15.086814880371094, 15.08447551727295, 15.082159042358398, 15.079867362976074, 15.077601432800293, 15.075363159179688, 15.073145866394043, 15.070959091186523, 15.068788528442383, 15.066652297973633, 15.064535140991211, 15.062446594238281, 15.060379028320312, 15.05833625793457]}\n"
     ]
    }
   ],
   "source": [
    "print(x.history)"
   ]
  },
  {
   "cell_type": "code",
   "execution_count": 46,
   "metadata": {},
   "outputs": [
    {
     "data": {
      "text/plain": [
       "<Axes: >"
      ]
     },
     "execution_count": 46,
     "metadata": {},
     "output_type": "execute_result"
    },
    {
     "data": {
      "image/png": "[encoded data removed]",
      "text/plain": [
       "<Figure size 640x480 with 1 Axes>"
      ]
     },
     "metadata": {},
     "output_type": "display_data"
    }
   ],
   "source": [
    "import seaborn as sns\n",
    "sns.lineplot(data=x.history['loss'])"
   ]
  },
  {
   "cell_type": "code",
   "execution_count": 47,
   "metadata": {},
   "outputs": [
    {
     "ename": "ValueError",
     "evalue": "Unrecognized data type: x=[10] (of type <class 'list'>)",
     "output_type": "error",
     "traceback": [
      "\u001b[1;31m---------------------------------------------------------------------------\u001b[0m",
      "\u001b[1;31mValueError\u001b[0m                                Traceback (most recent call last)",
      "Cell \u001b[1;32mIn[47], line 1\u001b[0m\n\u001b[1;32m----> 1\u001b[0m \u001b[43mmodel\u001b[49m\u001b[38;5;241;43m.\u001b[39;49m\u001b[43mpredict\u001b[49m\u001b[43m(\u001b[49m\u001b[43m[\u001b[49m\u001b[38;5;241;43m10\u001b[39;49m\u001b[43m]\u001b[49m\u001b[43m)\u001b[49m\n",
      "File \u001b[1;32m~\\AppData\\Roaming\\Python\\Python312\\site-packages\\keras\\src\\utils\\traceback_utils.py:122\u001b[0m, in \u001b[0;36mfilter_traceback.<locals>.error_handler\u001b[1;34m(*args, **kwargs)\u001b[0m\n\u001b[0;32m    119\u001b[0m     filtered_tb \u001b[38;5;241m=\u001b[39m _process_traceback_frames(e\u001b[38;5;241m.\u001b[39m__traceback__)\n\u001b[0;32m    120\u001b[0m     \u001b[38;5;66;03m# To get the full stack trace, call:\u001b[39;00m\n\u001b[0;32m    121\u001b[0m     \u001b[38;5;66;03m# `keras.config.disable_traceback_filtering()`\u001b[39;00m\n\u001b[1;32m--> 122\u001b[0m     \u001b[38;5;28;01mraise\u001b[39;00m e\u001b[38;5;241m.\u001b[39mwith_traceback(filtered_tb) \u001b[38;5;28;01mfrom\u001b[39;00m \u001b[38;5;28;01mNone\u001b[39;00m\n\u001b[0;32m    123\u001b[0m \u001b[38;5;28;01mfinally\u001b[39;00m:\n\u001b[0;32m    124\u001b[0m     \u001b[38;5;28;01mdel\u001b[39;00m filtered_tb\n",
      "File \u001b[1;32m~\\AppData\\Roaming\\Python\\Python312\\site-packages\\keras\\src\\trainers\\data_adapters\\__init__.py:125\u001b[0m, in \u001b[0;36mget_data_adapter\u001b[1;34m(x, y, sample_weight, batch_size, steps_per_epoch, shuffle, class_weight)\u001b[0m\n\u001b[0;32m    117\u001b[0m     \u001b[38;5;28;01mreturn\u001b[39;00m GeneratorDataAdapter(x)\n\u001b[0;32m    118\u001b[0m     \u001b[38;5;66;03m# TODO: should we warn or not?\u001b[39;00m\n\u001b[0;32m    119\u001b[0m     \u001b[38;5;66;03m# warnings.warn(\u001b[39;00m\n\u001b[0;32m    120\u001b[0m     \u001b[38;5;66;03m#     \"`shuffle=True` was passed, but will be ignored since the \"\u001b[39;00m\n\u001b[1;32m   (...)\u001b[0m\n\u001b[0;32m    123\u001b[0m     \u001b[38;5;66;03m# )\u001b[39;00m\n\u001b[0;32m    124\u001b[0m \u001b[38;5;28;01melse\u001b[39;00m:\n\u001b[1;32m--> 125\u001b[0m     \u001b[38;5;28;01mraise\u001b[39;00m \u001b[38;5;167;01mValueError\u001b[39;00m(\u001b[38;5;124mf\u001b[39m\u001b[38;5;124m\"\u001b[39m\u001b[38;5;124mUnrecognized data type: x=\u001b[39m\u001b[38;5;132;01m{\u001b[39;00mx\u001b[38;5;132;01m}\u001b[39;00m\u001b[38;5;124m (of type \u001b[39m\u001b[38;5;132;01m{\u001b[39;00m\u001b[38;5;28mtype\u001b[39m(x)\u001b[38;5;132;01m}\u001b[39;00m\u001b[38;5;124m)\u001b[39m\u001b[38;5;124m\"\u001b[39m)\n",
      "\u001b[1;31mValueError\u001b[0m: Unrecognized data type: x=[10] (of type <class 'list'>)"
     ]
    }
   ],
   "source": [
    "model.predict([10])"
   ]
  },
  {
   "cell_type": "markdown",
   "metadata": {
    "id": "btF2CSFH2iEX"
   },
   "source": [
    "You might have thought 65, right? But it ended up being a little over. Why do you think that is? \n",
    "\n",
    "Remember that neural networks deal with probabilities, so given the data that we fed the NN with, it calculated that there is a very high probability that the relationship between X and Y is Y = 5.12 * x + 14.45, but with only 10 data points we can't know for sure. As a result, the result for 10 is very close to 65, but not necessarily 65. \n",
    "\n",
    "As you work with neural networks, you'll see this pattern recurring. You will almost always deal with probabilities, not certainties, and will do a little bit of coding to figure out what the result is based on the probabilities, particularly when it comes to classification.\n"
   ]
  }
 ],
 "metadata": {
  "colab": {
   "collapsed_sections": [],
   "name": "Notebook1.1.ipynb",
   "provenance": [],
   "toc_visible": true
  },
  "kernelspec": {
   "display_name": "Python 3",
   "language": "python",
   "name": "python3"
  },
  "language_info": {
   "codemirror_mode": {
    "name": "ipython",
    "version": 3
   },
   "file_extension": ".py",
   "mimetype": "text/x-python",
   "name": "python",
   "nbconvert_exporter": "python",
   "pygments_lexer": "ipython3",
   "version": "3.12.6"
  }
 },
 "nbformat": 4,
 "nbformat_minor": 4
}
