{
 "cells": [
  {
   "cell_type": "code",
   "execution_count": null,
   "metadata": {},
   "outputs": [
    {
     "ename": "NameError",
     "evalue": "name 'vocab_size' is not defined",
     "output_type": "error",
     "traceback": [
      "\u001b[1;31m---------------------------------------------------------------------------\u001b[0m",
      "\u001b[1;31mNameError\u001b[0m                                 Traceback (most recent call last)",
      "Cell \u001b[1;32mIn[1], line 8\u001b[0m\n\u001b[0;32m      5\u001b[0m out_m \u001b[38;5;241m=\u001b[39m io\u001b[38;5;241m.\u001b[39mopen(\u001b[38;5;124m'\u001b[39m\u001b[38;5;124mmeta.tsv\u001b[39m\u001b[38;5;124m'\u001b[39m, \u001b[38;5;124m'\u001b[39m\u001b[38;5;124mw\u001b[39m\u001b[38;5;124m'\u001b[39m, encoding\u001b[38;5;241m=\u001b[39m\u001b[38;5;124m'\u001b[39m\u001b[38;5;124mutf-8\u001b[39m\u001b[38;5;124m'\u001b[39m)\n\u001b[0;32m      7\u001b[0m \u001b[38;5;66;03m# Initialize the loop. Start counting at `1` because `0` is just for the padding\u001b[39;00m\n\u001b[1;32m----> 8\u001b[0m \u001b[38;5;28;01mfor\u001b[39;00m word_num \u001b[38;5;129;01min\u001b[39;00m \u001b[38;5;28mrange\u001b[39m(\u001b[38;5;241m1\u001b[39m, \u001b[43mvocab_size\u001b[49m):\n\u001b[0;32m      9\u001b[0m \n\u001b[0;32m     10\u001b[0m       \u001b[38;5;66;03m# Get the word associated at the current index\u001b[39;00m\n\u001b[0;32m     11\u001b[0m       word_name \u001b[38;5;241m=\u001b[39m reverse_word_index[word_num]\n\u001b[0;32m     13\u001b[0m       \u001b[38;5;66;03m# Get the embedding weights associated with the current index\u001b[39;00m\n",
      "\u001b[1;31mNameError\u001b[0m: name 'vocab_size' is not defined"
     ]
    }
   ],
   "source": [
    "import io\n",
    "\n",
    "# Define vocab_size properly (example)\n",
    "vocab_size = len(tokenizer.word_index) + 1  # Ensure tokenizer is defined\n",
    "\n",
    "# Reverse word index\n",
    "reverse_word_index = {index: word for word, index in tokenizer.word_index.items()}\n",
    "\n",
    "# Extract embedding weights\n",
    "embedding_weights = embedding_layer.get_weights()[0]\n",
    "\n",
    "# Open writable files\n",
    "out_v = io.open('vecs.tsv', 'w', encoding='utf-8')\n",
    "out_m = io.open('meta.tsv', 'w', encoding='utf-8')\n",
    "\n",
    "# Loop through vocabulary\n",
    "for word_num in range(1, vocab_size):  # Skip 0 (padding token)\n",
    "    if word_num in reverse_word_index:  # Ensure word_num exists\n",
    "        word_name = reverse_word_index[word_num]\n",
    "        word_embedding = embedding_weights[word_num]\n",
    "\n",
    "        # Write the word and embedding\n",
    "        out_m.write(word_name + \"\\n\")\n",
    "        out_v.write('\\t'.join([str(x) for x in word_embedding]) + \"\\n\")\n",
    "\n",
    "# Close the files\n",
    "out_v.close()\n",
    "out_m.close()\n"
   ]
  }
 ],
 "metadata": {
  "kernelspec": {
   "display_name": "Python 3",
   "language": "python",
   "name": "python3"
  },
  "language_info": {
   "codemirror_mode": {
    "name": "ipython",
    "version": 3
   },
   "file_extension": ".py",
   "mimetype": "text/x-python",
   "name": "python",
   "nbconvert_exporter": "python",
   "pygments_lexer": "ipython3",
   "version": "3.12.6"
  }
 },
 "nbformat": 4,
 "nbformat_minor": 2
}
